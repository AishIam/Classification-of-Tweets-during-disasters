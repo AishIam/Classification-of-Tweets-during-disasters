{
 "cells": [
  {
   "cell_type": "markdown",
   "id": "7476ccb0",
   "metadata": {
    "colab": {
     "base_uri": "https://localhost:8080/"
    },
    "id": "VWgzE7iOFErM",
    "outputId": "74694fbf-e8a8-4375-c974-60a3c4c2110b"
   },
   "source": [
    "pip install -U imbalanced-learn"
   ]
  },
  {
   "cell_type": "code",
   "execution_count": 1,
   "id": "c25d38a2",
   "metadata": {},
   "outputs": [],
   "source": [
    "import pandas as pd\n",
    "import numpy as np\n",
    "import nltk\n",
    "import string\n",
    "from imblearn.under_sampling import RandomUnderSampler"
   ]
  },
  {
   "cell_type": "code",
   "execution_count": 2,
   "id": "b9850979",
   "metadata": {
    "colab": {
     "base_uri": "https://localhost:8080/",
     "height": 410
    },
    "id": "CzdzcJXGFErQ",
    "outputId": "7f9dc511-528a-468a-a6db-db081368e23e"
   },
   "outputs": [
    {
     "data": {
      "text/html": [
       "<div>\n",
       "<style scoped>\n",
       "    .dataframe tbody tr th:only-of-type {\n",
       "        vertical-align: middle;\n",
       "    }\n",
       "\n",
       "    .dataframe tbody tr th {\n",
       "        vertical-align: top;\n",
       "    }\n",
       "\n",
       "    .dataframe thead th {\n",
       "        text-align: right;\n",
       "    }\n",
       "</style>\n",
       "<table border=\"1\" class=\"dataframe\">\n",
       "  <thead>\n",
       "    <tr style=\"text-align: right;\">\n",
       "      <th></th>\n",
       "      <th>Tweet_id</th>\n",
       "      <th>Tweets</th>\n",
       "      <th>Label</th>\n",
       "    </tr>\n",
       "  </thead>\n",
       "  <tbody>\n",
       "    <tr>\n",
       "      <th>0</th>\n",
       "      <td>591974898139987968</td>\n",
       "      <td>RT @Economynext: #SriLanka to fly emergency medical help, food to #earthquake -struck #Nepal #lka #Economynext http://t.co/t6F2RXD4tj http:…</td>\n",
       "      <td>Avail</td>\n",
       "    </tr>\n",
       "    <tr>\n",
       "      <th>1</th>\n",
       "      <td>591979323164233729</td>\n",
       "      <td>India committed in aid to Nepal: President Pranab Mukherjee: President Pranab Mukherjee… http://t.co/NeP9Pb9l0M SPS®</td>\n",
       "      <td>Others</td>\n",
       "    </tr>\n",
       "    <tr>\n",
       "      <th>2</th>\n",
       "      <td>591984387526234112</td>\n",
       "      <td>RT @Thekkapoor: @narendramodi List of Doctor and hospital . #earthquake #Nepal http://t.co/pRIPlyrobc</td>\n",
       "      <td>Avail</td>\n",
       "    </tr>\n",
       "    <tr>\n",
       "      <th>3</th>\n",
       "      <td>591984010714157056</td>\n",
       "      <td>Quake wake-up call for govt, need better building tech: Expert #Earthquake #Nepal #India http://t.co/85dhBJ2aES http://t.co/Q9m9eLs1ye</td>\n",
       "      <td>Others</td>\n",
       "    </tr>\n",
       "    <tr>\n",
       "      <th>4</th>\n",
       "      <td>591974595525128195</td>\n",
       "      <td>#NepalEarthquake India sends 39 #NDRF team, 2 dogs and 3 tonnes equipment to Nepal Army for rescue operations: Indian Embassy in #Nepal</td>\n",
       "      <td>Avail</td>\n",
       "    </tr>\n",
       "    <tr>\n",
       "      <th>5</th>\n",
       "      <td>591983032208232448</td>\n",
       "      <td>\"@PMOIndia_RC: Indian Government is doing every possible help to the earthquake victims and they need money so plz contribute\"</td>\n",
       "      <td>Others</td>\n",
       "    </tr>\n",
       "    <tr>\n",
       "      <th>6</th>\n",
       "      <td>591979178733408256</td>\n",
       "      <td>RT @ANI_news: We have to play a leading role to provide aid to Nepal: Shashidhar Reddy (Former Vice Chairman, NDMA) http://t.co/xnzi2gaRrQ</td>\n",
       "      <td>Others</td>\n",
       "    </tr>\n",
       "    <tr>\n",
       "      <th>7</th>\n",
       "      <td>591986773212856321</td>\n",
       "      <td>RT @UNFPAasia: As emergency services step up in post-quake Nepal, don't forget the urgent specialized services pregnant women need; @UNFPAN…</td>\n",
       "      <td>Others</td>\n",
       "    </tr>\n",
       "    <tr>\n",
       "      <th>8</th>\n",
       "      <td>591976562515316736</td>\n",
       "      <td>1L water bottle by railways\\nLocal rates from BSNL to Nepal\\n250 Indians to be rescued tonight\\n3.5 tones of relief material\\n#HatsOffGOI</td>\n",
       "      <td>Others</td>\n",
       "    </tr>\n",
       "    <tr>\n",
       "      <th>9</th>\n",
       "      <td>591977226586836992</td>\n",
       "      <td>RT @BJPLucknowBJP: Agra Medical College Building Damaged In #Earthquake http://t.co/IJvIIombVd</td>\n",
       "      <td>Others</td>\n",
       "    </tr>\n",
       "  </tbody>\n",
       "</table>\n",
       "</div>"
      ],
      "text/plain": [
       "             Tweet_id                                                                                                                                        Tweets   Label\n",
       "0  591974898139987968  RT @Economynext: #SriLanka to fly emergency medical help, food to #earthquake -struck #Nepal #lka #Economynext http://t.co/t6F2RXD4tj http:…   Avail\n",
       "1  591979323164233729                          India committed in aid to Nepal: President Pranab Mukherjee: President Pranab Mukherjee… http://t.co/NeP9Pb9l0M SPS®  Others\n",
       "2  591984387526234112                                         RT @Thekkapoor: @narendramodi List of Doctor and hospital . #earthquake #Nepal http://t.co/pRIPlyrobc   Avail\n",
       "3  591984010714157056        Quake wake-up call for govt, need better building tech: Expert #Earthquake #Nepal #India http://t.co/85dhBJ2aES http://t.co/Q9m9eLs1ye  Others\n",
       "4  591974595525128195       #NepalEarthquake India sends 39 #NDRF team, 2 dogs and 3 tonnes equipment to Nepal Army for rescue operations: Indian Embassy in #Nepal   Avail\n",
       "5  591983032208232448                \"@PMOIndia_RC: Indian Government is doing every possible help to the earthquake victims and they need money so plz contribute\"  Others\n",
       "6  591979178733408256    RT @ANI_news: We have to play a leading role to provide aid to Nepal: Shashidhar Reddy (Former Vice Chairman, NDMA) http://t.co/xnzi2gaRrQ  Others\n",
       "7  591986773212856321  RT @UNFPAasia: As emergency services step up in post-quake Nepal, don't forget the urgent specialized services pregnant women need; @UNFPAN…  Others\n",
       "8  591976562515316736     1L water bottle by railways\\nLocal rates from BSNL to Nepal\\n250 Indians to be rescued tonight\\n3.5 tones of relief material\\n#HatsOffGOI  Others\n",
       "9  591977226586836992                                                RT @BJPLucknowBJP: Agra Medical College Building Damaged In #Earthquake http://t.co/IJvIIombVd  Others"
      ]
     },
     "execution_count": 2,
     "metadata": {},
     "output_type": "execute_result"
    }
   ],
   "source": [
    "pd.set_option('display.width', 10000)\n",
    "pd.set_option('display.max_colwidth', 10000)\n",
    "\n",
    "dataset = pd.read_csv(\"NepalTweetsDataSet.csv\")\n",
    "\n",
    "dataset_need = pd.read_csv(\"NepalNeedsDF.csv\")\n",
    "dataset_avail = pd.read_csv(\"NepalAvailsDF.csv\")\n",
    "\n",
    "x = dataset_need['Need_id'].values\n",
    "y = dataset_avail['Avail_id'].values\n",
    "z = dataset['Tweet_id'].values\n",
    "\n",
    "nao = list()\n",
    "for i in z:\n",
    "    if i in x:\n",
    "        nao.append(\"Need\")\n",
    "    elif i in y:\n",
    "        nao.append(\"Avail\")\n",
    "    else:\n",
    "        nao.append(\"Others\")\n",
    "dataset['Label'] = nao\n",
    "\n",
    "dataset.head(10)"
   ]
  },
  {
   "cell_type": "markdown",
   "id": "14e5516c",
   "metadata": {
    "id": "-3GEAkKHFErR"
   },
   "source": [
    "# Removing the user-handles, hash symbols and hyperlinks"
   ]
  },
  {
   "cell_type": "code",
   "execution_count": 3,
   "id": "6646532f",
   "metadata": {
    "colab": {
     "base_uri": "https://localhost:8080/",
     "height": 360
    },
    "id": "JDlrmftAFErR",
    "outputId": "8677cec1-33a5-4717-c78d-7308c347c22b"
   },
   "outputs": [
    {
     "data": {
      "text/html": [
       "<div>\n",
       "<style scoped>\n",
       "    .dataframe tbody tr th:only-of-type {\n",
       "        vertical-align: middle;\n",
       "    }\n",
       "\n",
       "    .dataframe tbody tr th {\n",
       "        vertical-align: top;\n",
       "    }\n",
       "\n",
       "    .dataframe thead th {\n",
       "        text-align: right;\n",
       "    }\n",
       "</style>\n",
       "<table border=\"1\" class=\"dataframe\">\n",
       "  <thead>\n",
       "    <tr style=\"text-align: right;\">\n",
       "      <th></th>\n",
       "      <th>Tweet_id</th>\n",
       "      <th>Tweets</th>\n",
       "      <th>Label</th>\n",
       "    </tr>\n",
       "  </thead>\n",
       "  <tbody>\n",
       "    <tr>\n",
       "      <th>0</th>\n",
       "      <td>591974898139987968</td>\n",
       "      <td>: SriLanka to fly emergency medical help, food to earthquake -struck Nepal lka Economynext</td>\n",
       "      <td>Avail</td>\n",
       "    </tr>\n",
       "    <tr>\n",
       "      <th>1</th>\n",
       "      <td>591979323164233729</td>\n",
       "      <td>India committed in aid to Nepal: President Pranab Mukherjee: President Pranab Mukherjee…</td>\n",
       "      <td>Others</td>\n",
       "    </tr>\n",
       "    <tr>\n",
       "      <th>2</th>\n",
       "      <td>591984387526234112</td>\n",
       "      <td>:  List of Doctor and hospital . earthquake Nepal</td>\n",
       "      <td>Avail</td>\n",
       "    </tr>\n",
       "    <tr>\n",
       "      <th>3</th>\n",
       "      <td>591984010714157056</td>\n",
       "      <td>Quake wake-up call for govt, need better building tech: Expert Earthquake Nepal India</td>\n",
       "      <td>Others</td>\n",
       "    </tr>\n",
       "    <tr>\n",
       "      <th>4</th>\n",
       "      <td>591974595525128195</td>\n",
       "      <td>NepalEarthquake India sends 39 NDRF team, 2 dogs and 3 tonnes equipment to Nepal Army for rescue operations: Indian Embassy in Nepal</td>\n",
       "      <td>Avail</td>\n",
       "    </tr>\n",
       "    <tr>\n",
       "      <th>5</th>\n",
       "      <td>591983032208232448</td>\n",
       "      <td>\": Indian Government is doing every possible help to the earthquake victims and they need money so plz contribute\"</td>\n",
       "      <td>Others</td>\n",
       "    </tr>\n",
       "    <tr>\n",
       "      <th>6</th>\n",
       "      <td>591979178733408256</td>\n",
       "      <td>: We have to play a leading role to provide aid to Nepal: Shashidhar Reddy (Former Vice Chairman, NDMA)</td>\n",
       "      <td>Others</td>\n",
       "    </tr>\n",
       "    <tr>\n",
       "      <th>7</th>\n",
       "      <td>591986773212856321</td>\n",
       "      <td>: As emergency services step up in post-quake Nepal, don't forget the urgent specialized services pregnant women need; …</td>\n",
       "      <td>Others</td>\n",
       "    </tr>\n",
       "    <tr>\n",
       "      <th>8</th>\n",
       "      <td>591976562515316736</td>\n",
       "      <td>1L water bottle by railways\\nLocal rates from BSNL to Nepal\\n250 Indians to be rescued tonight\\n3.5 tones of relief material\\nHatsOffGOI</td>\n",
       "      <td>Others</td>\n",
       "    </tr>\n",
       "    <tr>\n",
       "      <th>9</th>\n",
       "      <td>591977226586836992</td>\n",
       "      <td>: Agra Medical College Building Damaged In Earthquake</td>\n",
       "      <td>Others</td>\n",
       "    </tr>\n",
       "  </tbody>\n",
       "</table>\n",
       "</div>"
      ],
      "text/plain": [
       "             Tweet_id                                                                                                                                    Tweets   Label\n",
       "0  591974898139987968                                               : SriLanka to fly emergency medical help, food to earthquake -struck Nepal lka Economynext    Avail\n",
       "1  591979323164233729                                                 India committed in aid to Nepal: President Pranab Mukherjee: President Pranab Mukherjee…   Others\n",
       "2  591984387526234112                                                                                        :  List of Doctor and hospital . earthquake Nepal    Avail\n",
       "3  591984010714157056                                                    Quake wake-up call for govt, need better building tech: Expert Earthquake Nepal India   Others\n",
       "4  591974595525128195      NepalEarthquake India sends 39 NDRF team, 2 dogs and 3 tonnes equipment to Nepal Army for rescue operations: Indian Embassy in Nepal   Avail\n",
       "5  591983032208232448                        \": Indian Government is doing every possible help to the earthquake victims and they need money so plz contribute\"  Others\n",
       "6  591979178733408256                                  : We have to play a leading role to provide aid to Nepal: Shashidhar Reddy (Former Vice Chairman, NDMA)   Others\n",
       "7  591986773212856321                  : As emergency services step up in post-quake Nepal, don't forget the urgent specialized services pregnant women need; …  Others\n",
       "8  591976562515316736  1L water bottle by railways\\nLocal rates from BSNL to Nepal\\n250 Indians to be rescued tonight\\n3.5 tones of relief material\\nHatsOffGOI  Others\n",
       "9  591977226586836992                                                                                    : Agra Medical College Building Damaged In Earthquake   Others"
      ]
     },
     "execution_count": 3,
     "metadata": {},
     "output_type": "execute_result"
    }
   ],
   "source": [
    "import re\n",
    "def remove_pattern(input_txt, pattern):\n",
    "    r = re.findall(pattern, input_txt)\n",
    "    for i in r:\n",
    "        input_txt = re.sub(i, '', input_txt)\n",
    "    return input_txt    \n",
    "\n",
    "dataset['Tweets'] = dataset['Tweets'].apply(lambda x: remove_pattern(x, \"@[\\w]+\"))\n",
    "dataset['Tweets'] = dataset['Tweets'].apply(lambda x: remove_pattern(x, \"RT\"))\n",
    "dataset['Tweets'] = dataset['Tweets'].apply(lambda x: remove_pattern(x, \"#\"))\n",
    "\n",
    "dataset['Tweets']=dataset['Tweets'].replace(to_replace = r'https?:\\/\\/.*[\\r\\n]*', value= '', regex=True)\n",
    "\n",
    "dataset.head(10)"
   ]
  },
  {
   "cell_type": "markdown",
   "id": "85d79f08",
   "metadata": {
    "id": "sm1wot8qFErR"
   },
   "source": [
    "# Removing the unicode elements from the tweets"
   ]
  },
  {
   "cell_type": "code",
   "execution_count": 4,
   "id": "78e1c573",
   "metadata": {
    "colab": {
     "base_uri": "https://localhost:8080/",
     "height": 360
    },
    "id": "m5GKmuXwFErS",
    "outputId": "b4083865-62cc-4c57-9b27-37b0cc931b6f"
   },
   "outputs": [
    {
     "data": {
      "text/html": [
       "<div>\n",
       "<style scoped>\n",
       "    .dataframe tbody tr th:only-of-type {\n",
       "        vertical-align: middle;\n",
       "    }\n",
       "\n",
       "    .dataframe tbody tr th {\n",
       "        vertical-align: top;\n",
       "    }\n",
       "\n",
       "    .dataframe thead th {\n",
       "        text-align: right;\n",
       "    }\n",
       "</style>\n",
       "<table border=\"1\" class=\"dataframe\">\n",
       "  <thead>\n",
       "    <tr style=\"text-align: right;\">\n",
       "      <th></th>\n",
       "      <th>Tweet_id</th>\n",
       "      <th>Tweets</th>\n",
       "      <th>Label</th>\n",
       "    </tr>\n",
       "  </thead>\n",
       "  <tbody>\n",
       "    <tr>\n",
       "      <th>0</th>\n",
       "      <td>591974898139987968</td>\n",
       "      <td>: SriLanka to fly emergency medical help, food to earthquake -struck Nepal lka Economynext</td>\n",
       "      <td>Avail</td>\n",
       "    </tr>\n",
       "    <tr>\n",
       "      <th>1</th>\n",
       "      <td>591979323164233729</td>\n",
       "      <td>India committed in aid to Nepal: President Pranab Mukherjee: President Pranab Mukherjee</td>\n",
       "      <td>Others</td>\n",
       "    </tr>\n",
       "    <tr>\n",
       "      <th>2</th>\n",
       "      <td>591984387526234112</td>\n",
       "      <td>:  List of Doctor and hospital . earthquake Nepal</td>\n",
       "      <td>Avail</td>\n",
       "    </tr>\n",
       "    <tr>\n",
       "      <th>3</th>\n",
       "      <td>591984010714157056</td>\n",
       "      <td>Quake wake-up call for govt, need better building tech: Expert Earthquake Nepal India</td>\n",
       "      <td>Others</td>\n",
       "    </tr>\n",
       "    <tr>\n",
       "      <th>4</th>\n",
       "      <td>591974595525128195</td>\n",
       "      <td>NepalEarthquake India sends 39 NDRF team, 2 dogs and 3 tonnes equipment to Nepal Army for rescue operations: Indian Embassy in Nepal</td>\n",
       "      <td>Avail</td>\n",
       "    </tr>\n",
       "    <tr>\n",
       "      <th>5</th>\n",
       "      <td>591983032208232448</td>\n",
       "      <td>\": Indian Government is doing every possible help to the earthquake victims and they need money so plz contribute\"</td>\n",
       "      <td>Others</td>\n",
       "    </tr>\n",
       "    <tr>\n",
       "      <th>6</th>\n",
       "      <td>591979178733408256</td>\n",
       "      <td>: We have to play a leading role to provide aid to Nepal: Shashidhar Reddy (Former Vice Chairman, NDMA)</td>\n",
       "      <td>Others</td>\n",
       "    </tr>\n",
       "    <tr>\n",
       "      <th>7</th>\n",
       "      <td>591986773212856321</td>\n",
       "      <td>: As emergency services step up in post-quake Nepal, don't forget the urgent specialized services pregnant women need;</td>\n",
       "      <td>Others</td>\n",
       "    </tr>\n",
       "    <tr>\n",
       "      <th>8</th>\n",
       "      <td>591976562515316736</td>\n",
       "      <td>1L water bottle by railways\\nLocal rates from BSNL to Nepal\\n250 Indians to be rescued tonight\\n3.5 tones of relief material\\nHatsOffGOI</td>\n",
       "      <td>Others</td>\n",
       "    </tr>\n",
       "    <tr>\n",
       "      <th>9</th>\n",
       "      <td>591977226586836992</td>\n",
       "      <td>: Agra Medical College Building Damaged In Earthquake</td>\n",
       "      <td>Others</td>\n",
       "    </tr>\n",
       "  </tbody>\n",
       "</table>\n",
       "</div>"
      ],
      "text/plain": [
       "             Tweet_id                                                                                                                                    Tweets   Label\n",
       "0  591974898139987968                                               : SriLanka to fly emergency medical help, food to earthquake -struck Nepal lka Economynext    Avail\n",
       "1  591979323164233729                                                  India committed in aid to Nepal: President Pranab Mukherjee: President Pranab Mukherjee   Others\n",
       "2  591984387526234112                                                                                        :  List of Doctor and hospital . earthquake Nepal    Avail\n",
       "3  591984010714157056                                                    Quake wake-up call for govt, need better building tech: Expert Earthquake Nepal India   Others\n",
       "4  591974595525128195      NepalEarthquake India sends 39 NDRF team, 2 dogs and 3 tonnes equipment to Nepal Army for rescue operations: Indian Embassy in Nepal   Avail\n",
       "5  591983032208232448                        \": Indian Government is doing every possible help to the earthquake victims and they need money so plz contribute\"  Others\n",
       "6  591979178733408256                                  : We have to play a leading role to provide aid to Nepal: Shashidhar Reddy (Former Vice Chairman, NDMA)   Others\n",
       "7  591986773212856321                   : As emergency services step up in post-quake Nepal, don't forget the urgent specialized services pregnant women need;   Others\n",
       "8  591976562515316736  1L water bottle by railways\\nLocal rates from BSNL to Nepal\\n250 Indians to be rescued tonight\\n3.5 tones of relief material\\nHatsOffGOI  Others\n",
       "9  591977226586836992                                                                                    : Agra Medical College Building Damaged In Earthquake   Others"
      ]
     },
     "execution_count": 4,
     "metadata": {},
     "output_type": "execute_result"
    }
   ],
   "source": [
    "def remove_non_ascii(text): \n",
    "    return \"\".join(i for i in text if ord(i)<128) \n",
    " \n",
    "dataset['Tweets'] = dataset['Tweets'].apply(remove_non_ascii)\n",
    "\n",
    "dataset.head(10)"
   ]
  },
  {
   "cell_type": "markdown",
   "id": "4f8aa1e6",
   "metadata": {
    "id": "-1BeA8OGFErS"
   },
   "source": [
    "# Tokenization"
   ]
  },
  {
   "cell_type": "code",
   "execution_count": 5,
   "id": "7e0124c5",
   "metadata": {
    "colab": {
     "base_uri": "https://localhost:8080/",
     "height": 377
    },
    "id": "w8HrHIHJFErS",
    "outputId": "09e7f32f-5f95-4a0f-d4d6-781127c63170"
   },
   "outputs": [
    {
     "data": {
      "text/html": [
       "<div>\n",
       "<style scoped>\n",
       "    .dataframe tbody tr th:only-of-type {\n",
       "        vertical-align: middle;\n",
       "    }\n",
       "\n",
       "    .dataframe tbody tr th {\n",
       "        vertical-align: top;\n",
       "    }\n",
       "\n",
       "    .dataframe thead th {\n",
       "        text-align: right;\n",
       "    }\n",
       "</style>\n",
       "<table border=\"1\" class=\"dataframe\">\n",
       "  <thead>\n",
       "    <tr style=\"text-align: right;\">\n",
       "      <th></th>\n",
       "      <th>Tweet_id</th>\n",
       "      <th>Tweets</th>\n",
       "      <th>Label</th>\n",
       "    </tr>\n",
       "  </thead>\n",
       "  <tbody>\n",
       "    <tr>\n",
       "      <th>0</th>\n",
       "      <td>591974898139987968</td>\n",
       "      <td>[:, srilanka, to, fly, emergency, medical, help, ,, food, to, earthquake, -, struck, nepal, lka, economynext]</td>\n",
       "      <td>Avail</td>\n",
       "    </tr>\n",
       "    <tr>\n",
       "      <th>1</th>\n",
       "      <td>591979323164233729</td>\n",
       "      <td>[india, committed, in, aid, to, nepal, :, president, pranab, mukherjee, :, president, pranab, mukherjee]</td>\n",
       "      <td>Others</td>\n",
       "    </tr>\n",
       "    <tr>\n",
       "      <th>2</th>\n",
       "      <td>591984387526234112</td>\n",
       "      <td>[:, list, of, doctor, and, hospital, ., earthquake, nepal]</td>\n",
       "      <td>Avail</td>\n",
       "    </tr>\n",
       "    <tr>\n",
       "      <th>3</th>\n",
       "      <td>591984010714157056</td>\n",
       "      <td>[quake, wake-up, call, for, govt, ,, need, better, building, tech, :, expert, earthquake, nepal, india]</td>\n",
       "      <td>Others</td>\n",
       "    </tr>\n",
       "    <tr>\n",
       "      <th>4</th>\n",
       "      <td>591974595525128195</td>\n",
       "      <td>[nepalearthquake, india, sends, 39, ndrf, team, ,, 2, dogs, and, 3, tonnes, equipment, to, nepal, army, for, rescue, operations, :, indian, embassy, in, nepal]</td>\n",
       "      <td>Avail</td>\n",
       "    </tr>\n",
       "    <tr>\n",
       "      <th>5</th>\n",
       "      <td>591983032208232448</td>\n",
       "      <td>[\", :, indian, government, is, doing, every, possible, help, to, the, earthquake, victims, and, they, need, money, so, plz, contribute, \"]</td>\n",
       "      <td>Others</td>\n",
       "    </tr>\n",
       "    <tr>\n",
       "      <th>6</th>\n",
       "      <td>591979178733408256</td>\n",
       "      <td>[:, we, have, to, play, a, leading, role, to, provide, aid, to, nepal, :, shashidhar, reddy, (, former, vice, chairman, ,, ndma, )]</td>\n",
       "      <td>Others</td>\n",
       "    </tr>\n",
       "    <tr>\n",
       "      <th>7</th>\n",
       "      <td>591986773212856321</td>\n",
       "      <td>[:, as, emergency, services, step, up, in, post-quake, nepal, ,, don't, forget, the, urgent, specialized, services, pregnant, women, need, ;]</td>\n",
       "      <td>Others</td>\n",
       "    </tr>\n",
       "    <tr>\n",
       "      <th>8</th>\n",
       "      <td>591976562515316736</td>\n",
       "      <td>[1l, water, bottle, by, railways, local, rates, from, bsnl, to, nepal, 250, indians, to, be, rescued, tonight, 3.5, tones, of, relief, material, hatsoffgoi]</td>\n",
       "      <td>Others</td>\n",
       "    </tr>\n",
       "    <tr>\n",
       "      <th>9</th>\n",
       "      <td>591977226586836992</td>\n",
       "      <td>[:, agra, medical, college, building, damaged, in, earthquake]</td>\n",
       "      <td>Others</td>\n",
       "    </tr>\n",
       "  </tbody>\n",
       "</table>\n",
       "</div>"
      ],
      "text/plain": [
       "             Tweet_id                                                                                                                                                           Tweets   Label\n",
       "0  591974898139987968                                                    [:, srilanka, to, fly, emergency, medical, help, ,, food, to, earthquake, -, struck, nepal, lka, economynext]   Avail\n",
       "1  591979323164233729                                                         [india, committed, in, aid, to, nepal, :, president, pranab, mukherjee, :, president, pranab, mukherjee]  Others\n",
       "2  591984387526234112                                                                                                       [:, list, of, doctor, and, hospital, ., earthquake, nepal]   Avail\n",
       "3  591984010714157056                                                          [quake, wake-up, call, for, govt, ,, need, better, building, tech, :, expert, earthquake, nepal, india]  Others\n",
       "4  591974595525128195  [nepalearthquake, india, sends, 39, ndrf, team, ,, 2, dogs, and, 3, tonnes, equipment, to, nepal, army, for, rescue, operations, :, indian, embassy, in, nepal]   Avail\n",
       "5  591983032208232448                       [\", :, indian, government, is, doing, every, possible, help, to, the, earthquake, victims, and, they, need, money, so, plz, contribute, \"]  Others\n",
       "6  591979178733408256                              [:, we, have, to, play, a, leading, role, to, provide, aid, to, nepal, :, shashidhar, reddy, (, former, vice, chairman, ,, ndma, )]  Others\n",
       "7  591986773212856321                    [:, as, emergency, services, step, up, in, post-quake, nepal, ,, don't, forget, the, urgent, specialized, services, pregnant, women, need, ;]  Others\n",
       "8  591976562515316736     [1l, water, bottle, by, railways, local, rates, from, bsnl, to, nepal, 250, indians, to, be, rescued, tonight, 3.5, tones, of, relief, material, hatsoffgoi]  Others\n",
       "9  591977226586836992                                                                                                   [:, agra, medical, college, building, damaged, in, earthquake]  Others"
      ]
     },
     "execution_count": 5,
     "metadata": {},
     "output_type": "execute_result"
    }
   ],
   "source": [
    "tokenizer = nltk.tokenize.TweetTokenizer(preserve_case=False, strip_handles=True, reduce_len=True)\n",
    "\n",
    "def tokenize_text(text):\n",
    "    tokens = tokenizer.tokenize(text)\n",
    "    return tokens\n",
    "\n",
    "dataset['Tweets'] = dataset['Tweets'].apply(lambda x: tokenize_text(x.lower()))\n",
    "dataset.head(10)"
   ]
  },
  {
   "cell_type": "markdown",
   "id": "70dabf7c",
   "metadata": {
    "id": "NEbC1HmEFErS"
   },
   "source": [
    "# Removing stopwords and punctuations"
   ]
  },
  {
   "cell_type": "code",
   "execution_count": 6,
   "id": "1501b618",
   "metadata": {
    "colab": {
     "base_uri": "https://localhost:8080/",
     "height": 377
    },
    "id": "ETsw8zp1FErS",
    "outputId": "597bee2d-7e2e-4203-f835-6a99a558df3a"
   },
   "outputs": [
    {
     "name": "stderr",
     "output_type": "stream",
     "text": [
      "[nltk_data] Downloading package stopwords to\n",
      "[nltk_data]     C:\\Users\\Aishwarya\\AppData\\Roaming\\nltk_data...\n",
      "[nltk_data]   Unzipping corpora\\stopwords.zip.\n"
     ]
    },
    {
     "data": {
      "text/html": [
       "<div>\n",
       "<style scoped>\n",
       "    .dataframe tbody tr th:only-of-type {\n",
       "        vertical-align: middle;\n",
       "    }\n",
       "\n",
       "    .dataframe tbody tr th {\n",
       "        vertical-align: top;\n",
       "    }\n",
       "\n",
       "    .dataframe thead th {\n",
       "        text-align: right;\n",
       "    }\n",
       "</style>\n",
       "<table border=\"1\" class=\"dataframe\">\n",
       "  <thead>\n",
       "    <tr style=\"text-align: right;\">\n",
       "      <th></th>\n",
       "      <th>Tweet_id</th>\n",
       "      <th>Tweets</th>\n",
       "      <th>Label</th>\n",
       "    </tr>\n",
       "  </thead>\n",
       "  <tbody>\n",
       "    <tr>\n",
       "      <th>0</th>\n",
       "      <td>591974898139987968</td>\n",
       "      <td>[srilanka, fly, emergency, medical, help, food, earthquake, struck, nepal, lka, economynext]</td>\n",
       "      <td>Avail</td>\n",
       "    </tr>\n",
       "    <tr>\n",
       "      <th>1</th>\n",
       "      <td>591979323164233729</td>\n",
       "      <td>[india, committed, aid, nepal, president, pranab, mukherjee, president, pranab, mukherjee]</td>\n",
       "      <td>Others</td>\n",
       "    </tr>\n",
       "    <tr>\n",
       "      <th>2</th>\n",
       "      <td>591984387526234112</td>\n",
       "      <td>[list, doctor, hospital, earthquake, nepal]</td>\n",
       "      <td>Avail</td>\n",
       "    </tr>\n",
       "    <tr>\n",
       "      <th>3</th>\n",
       "      <td>591984010714157056</td>\n",
       "      <td>[quake, wake-up, call, govt, need, better, building, tech, expert, earthquake, nepal, india]</td>\n",
       "      <td>Others</td>\n",
       "    </tr>\n",
       "    <tr>\n",
       "      <th>4</th>\n",
       "      <td>591974595525128195</td>\n",
       "      <td>[nepalearthquake, india, sends, 39, ndrf, team, 2, dogs, 3, tonnes, equipment, nepal, army, rescue, operations, indian, embassy, nepal]</td>\n",
       "      <td>Avail</td>\n",
       "    </tr>\n",
       "    <tr>\n",
       "      <th>5</th>\n",
       "      <td>591983032208232448</td>\n",
       "      <td>[indian, government, every, possible, help, earthquake, victims, need, money, plz, contribute]</td>\n",
       "      <td>Others</td>\n",
       "    </tr>\n",
       "    <tr>\n",
       "      <th>6</th>\n",
       "      <td>591979178733408256</td>\n",
       "      <td>[play, leading, role, provide, aid, nepal, shashidhar, reddy, former, vice, chairman, ndma]</td>\n",
       "      <td>Others</td>\n",
       "    </tr>\n",
       "    <tr>\n",
       "      <th>7</th>\n",
       "      <td>591986773212856321</td>\n",
       "      <td>[emergency, services, step, post-quake, nepal, forget, urgent, specialized, services, pregnant, women, need]</td>\n",
       "      <td>Others</td>\n",
       "    </tr>\n",
       "    <tr>\n",
       "      <th>8</th>\n",
       "      <td>591976562515316736</td>\n",
       "      <td>[1l, water, bottle, railways, local, rates, bsnl, nepal, 250, indians, rescued, tonight, 3.5, tones, relief, material, hatsoffgoi]</td>\n",
       "      <td>Others</td>\n",
       "    </tr>\n",
       "    <tr>\n",
       "      <th>9</th>\n",
       "      <td>591977226586836992</td>\n",
       "      <td>[agra, medical, college, building, damaged, earthquake]</td>\n",
       "      <td>Others</td>\n",
       "    </tr>\n",
       "  </tbody>\n",
       "</table>\n",
       "</div>"
      ],
      "text/plain": [
       "             Tweet_id                                                                                                                                   Tweets   Label\n",
       "0  591974898139987968                                             [srilanka, fly, emergency, medical, help, food, earthquake, struck, nepal, lka, economynext]   Avail\n",
       "1  591979323164233729                                               [india, committed, aid, nepal, president, pranab, mukherjee, president, pranab, mukherjee]  Others\n",
       "2  591984387526234112                                                                                              [list, doctor, hospital, earthquake, nepal]   Avail\n",
       "3  591984010714157056                                             [quake, wake-up, call, govt, need, better, building, tech, expert, earthquake, nepal, india]  Others\n",
       "4  591974595525128195  [nepalearthquake, india, sends, 39, ndrf, team, 2, dogs, 3, tonnes, equipment, nepal, army, rescue, operations, indian, embassy, nepal]   Avail\n",
       "5  591983032208232448                                           [indian, government, every, possible, help, earthquake, victims, need, money, plz, contribute]  Others\n",
       "6  591979178733408256                                              [play, leading, role, provide, aid, nepal, shashidhar, reddy, former, vice, chairman, ndma]  Others\n",
       "7  591986773212856321                             [emergency, services, step, post-quake, nepal, forget, urgent, specialized, services, pregnant, women, need]  Others\n",
       "8  591976562515316736       [1l, water, bottle, railways, local, rates, bsnl, nepal, 250, indians, rescued, tonight, 3.5, tones, relief, material, hatsoffgoi]  Others\n",
       "9  591977226586836992                                                                                  [agra, medical, college, building, damaged, earthquake]  Others"
      ]
     },
     "execution_count": 6,
     "metadata": {},
     "output_type": "execute_result"
    }
   ],
   "source": [
    "nltk.download('stopwords')\n",
    "stopword = nltk.corpus.stopwords.words('english')\n",
    "\n",
    "def clean_text(tweet_tokens):\n",
    "    tweets_clean = []\n",
    "    for word in tweet_tokens:\n",
    "        if (word not in stopword and word not in string.punctuation):\n",
    "            tweets_clean.append(word)\n",
    "    return tweets_clean\n",
    "\n",
    "dataset['Tweets'] = dataset['Tweets'].apply(lambda x: clean_text(x))\n",
    "dataset.head(10)"
   ]
  },
  {
   "cell_type": "markdown",
   "id": "8c3745e5",
   "metadata": {
    "id": "UeoQjupmFErT"
   },
   "source": [
    "# Stemming / Lemmatization"
   ]
  },
  {
   "cell_type": "code",
   "execution_count": 7,
   "id": "341c946d",
   "metadata": {
    "colab": {
     "base_uri": "https://localhost:8080/",
     "height": 377
    },
    "id": "xrXOOm-EFErT",
    "outputId": "c5e6275e-0267-4146-dc29-8de3a52e1021"
   },
   "outputs": [
    {
     "name": "stderr",
     "output_type": "stream",
     "text": [
      "[nltk_data] Downloading package wordnet to\n",
      "[nltk_data]     C:\\Users\\Aishwarya\\AppData\\Roaming\\nltk_data...\n",
      "[nltk_data]   Package wordnet is already up-to-date!\n"
     ]
    },
    {
     "data": {
      "text/html": [
       "<div>\n",
       "<style scoped>\n",
       "    .dataframe tbody tr th:only-of-type {\n",
       "        vertical-align: middle;\n",
       "    }\n",
       "\n",
       "    .dataframe tbody tr th {\n",
       "        vertical-align: top;\n",
       "    }\n",
       "\n",
       "    .dataframe thead th {\n",
       "        text-align: right;\n",
       "    }\n",
       "</style>\n",
       "<table border=\"1\" class=\"dataframe\">\n",
       "  <thead>\n",
       "    <tr style=\"text-align: right;\">\n",
       "      <th></th>\n",
       "      <th>Tweet_id</th>\n",
       "      <th>Tweets</th>\n",
       "      <th>Label</th>\n",
       "    </tr>\n",
       "  </thead>\n",
       "  <tbody>\n",
       "    <tr>\n",
       "      <th>0</th>\n",
       "      <td>591974898139987968</td>\n",
       "      <td>[srilanka, fly, emergency, medical, help, food, earthquake, struck, nepal, lka, economynext]</td>\n",
       "      <td>Avail</td>\n",
       "    </tr>\n",
       "    <tr>\n",
       "      <th>1</th>\n",
       "      <td>591979323164233729</td>\n",
       "      <td>[india, committed, aid, nepal, president, pranab, mukherjee, president, pranab, mukherjee]</td>\n",
       "      <td>Others</td>\n",
       "    </tr>\n",
       "    <tr>\n",
       "      <th>2</th>\n",
       "      <td>591984387526234112</td>\n",
       "      <td>[list, doctor, hospital, earthquake, nepal]</td>\n",
       "      <td>Avail</td>\n",
       "    </tr>\n",
       "    <tr>\n",
       "      <th>3</th>\n",
       "      <td>591984010714157056</td>\n",
       "      <td>[quake, wake-up, call, govt, need, better, building, tech, expert, earthquake, nepal, india]</td>\n",
       "      <td>Others</td>\n",
       "    </tr>\n",
       "    <tr>\n",
       "      <th>4</th>\n",
       "      <td>591974595525128195</td>\n",
       "      <td>[nepalearthquake, india, sends, 39, ndrf, team, 2, dog, 3, tonne, equipment, nepal, army, rescue, operation, indian, embassy, nepal]</td>\n",
       "      <td>Avail</td>\n",
       "    </tr>\n",
       "    <tr>\n",
       "      <th>5</th>\n",
       "      <td>591983032208232448</td>\n",
       "      <td>[indian, government, every, possible, help, earthquake, victim, need, money, plz, contribute]</td>\n",
       "      <td>Others</td>\n",
       "    </tr>\n",
       "    <tr>\n",
       "      <th>6</th>\n",
       "      <td>591979178733408256</td>\n",
       "      <td>[play, leading, role, provide, aid, nepal, shashidhar, reddy, former, vice, chairman, ndma]</td>\n",
       "      <td>Others</td>\n",
       "    </tr>\n",
       "    <tr>\n",
       "      <th>7</th>\n",
       "      <td>591986773212856321</td>\n",
       "      <td>[emergency, service, step, post-quake, nepal, forget, urgent, specialized, service, pregnant, woman, need]</td>\n",
       "      <td>Others</td>\n",
       "    </tr>\n",
       "    <tr>\n",
       "      <th>8</th>\n",
       "      <td>591976562515316736</td>\n",
       "      <td>[1l, water, bottle, railway, local, rate, bsnl, nepal, 250, indian, rescued, tonight, 3.5, tone, relief, material, hatsoffgoi]</td>\n",
       "      <td>Others</td>\n",
       "    </tr>\n",
       "    <tr>\n",
       "      <th>9</th>\n",
       "      <td>591977226586836992</td>\n",
       "      <td>[agra, medical, college, building, damaged, earthquake]</td>\n",
       "      <td>Others</td>\n",
       "    </tr>\n",
       "  </tbody>\n",
       "</table>\n",
       "</div>"
      ],
      "text/plain": [
       "             Tweet_id                                                                                                                                Tweets   Label\n",
       "0  591974898139987968                                          [srilanka, fly, emergency, medical, help, food, earthquake, struck, nepal, lka, economynext]   Avail\n",
       "1  591979323164233729                                            [india, committed, aid, nepal, president, pranab, mukherjee, president, pranab, mukherjee]  Others\n",
       "2  591984387526234112                                                                                           [list, doctor, hospital, earthquake, nepal]   Avail\n",
       "3  591984010714157056                                          [quake, wake-up, call, govt, need, better, building, tech, expert, earthquake, nepal, india]  Others\n",
       "4  591974595525128195  [nepalearthquake, india, sends, 39, ndrf, team, 2, dog, 3, tonne, equipment, nepal, army, rescue, operation, indian, embassy, nepal]   Avail\n",
       "5  591983032208232448                                         [indian, government, every, possible, help, earthquake, victim, need, money, plz, contribute]  Others\n",
       "6  591979178733408256                                           [play, leading, role, provide, aid, nepal, shashidhar, reddy, former, vice, chairman, ndma]  Others\n",
       "7  591986773212856321                            [emergency, service, step, post-quake, nepal, forget, urgent, specialized, service, pregnant, woman, need]  Others\n",
       "8  591976562515316736        [1l, water, bottle, railway, local, rate, bsnl, nepal, 250, indian, rescued, tonight, 3.5, tone, relief, material, hatsoffgoi]  Others\n",
       "9  591977226586836992                                                                               [agra, medical, college, building, damaged, earthquake]  Others"
      ]
     },
     "execution_count": 7,
     "metadata": {},
     "output_type": "execute_result"
    }
   ],
   "source": [
    "nltk.download('wordnet')\n",
    "from nltk.stem import WordNetLemmatizer\n",
    "wn = WordNetLemmatizer()\n",
    "#ps = nltk.PorterStemmer()\n",
    "\n",
    "def stemming(tokenized_text):\n",
    "    text = [wn.lemmatize(word) for word in tokenized_text]\n",
    "    return text\n",
    "\n",
    "dataset['Tweets'] = dataset['Tweets'].apply(lambda x: stemming(x))\n",
    "dataset.head(10)"
   ]
  },
  {
   "cell_type": "code",
   "execution_count": 8,
   "id": "620a6f28",
   "metadata": {
    "colab": {
     "base_uri": "https://localhost:8080/",
     "height": 195
    },
    "id": "9TdCcsGYFErT",
    "outputId": "b43a3510-ebe5-493a-f115-f4b279e7296d"
   },
   "outputs": [
    {
     "data": {
      "text/html": [
       "<div>\n",
       "<style scoped>\n",
       "    .dataframe tbody tr th:only-of-type {\n",
       "        vertical-align: middle;\n",
       "    }\n",
       "\n",
       "    .dataframe tbody tr th {\n",
       "        vertical-align: top;\n",
       "    }\n",
       "\n",
       "    .dataframe thead th {\n",
       "        text-align: right;\n",
       "    }\n",
       "</style>\n",
       "<table border=\"1\" class=\"dataframe\">\n",
       "  <thead>\n",
       "    <tr style=\"text-align: right;\">\n",
       "      <th></th>\n",
       "      <th>Tweet_id</th>\n",
       "      <th>Tweets</th>\n",
       "      <th>Label</th>\n",
       "    </tr>\n",
       "  </thead>\n",
       "  <tbody>\n",
       "    <tr>\n",
       "      <th>0</th>\n",
       "      <td>591974898139987968</td>\n",
       "      <td>srilanka fly emergency medical help food earthquake struck nepal lka economynext</td>\n",
       "      <td>Avail</td>\n",
       "    </tr>\n",
       "    <tr>\n",
       "      <th>1</th>\n",
       "      <td>591979323164233729</td>\n",
       "      <td>india committed aid nepal president pranab mukherjee president pranab mukherjee</td>\n",
       "      <td>Others</td>\n",
       "    </tr>\n",
       "    <tr>\n",
       "      <th>2</th>\n",
       "      <td>591984387526234112</td>\n",
       "      <td>list doctor hospital earthquake nepal</td>\n",
       "      <td>Avail</td>\n",
       "    </tr>\n",
       "    <tr>\n",
       "      <th>3</th>\n",
       "      <td>591984010714157056</td>\n",
       "      <td>quake wake-up call govt need better building tech expert earthquake nepal india</td>\n",
       "      <td>Others</td>\n",
       "    </tr>\n",
       "    <tr>\n",
       "      <th>4</th>\n",
       "      <td>591974595525128195</td>\n",
       "      <td>nepalearthquake india sends 39 ndrf team 2 dog 3 tonne equipment nepal army rescue operation indian embassy nepal</td>\n",
       "      <td>Avail</td>\n",
       "    </tr>\n",
       "  </tbody>\n",
       "</table>\n",
       "</div>"
      ],
      "text/plain": [
       "             Tweet_id                                                                                                             Tweets   Label\n",
       "0  591974898139987968                                   srilanka fly emergency medical help food earthquake struck nepal lka economynext   Avail\n",
       "1  591979323164233729                                    india committed aid nepal president pranab mukherjee president pranab mukherjee  Others\n",
       "2  591984387526234112                                                                              list doctor hospital earthquake nepal   Avail\n",
       "3  591984010714157056                                    quake wake-up call govt need better building tech expert earthquake nepal india  Others\n",
       "4  591974595525128195  nepalearthquake india sends 39 ndrf team 2 dog 3 tonne equipment nepal army rescue operation indian embassy nepal   Avail"
      ]
     },
     "execution_count": 8,
     "metadata": {},
     "output_type": "execute_result"
    }
   ],
   "source": [
    "dataset['Tweets'] = [' '.join(map(str, l)) for l in dataset['Tweets']]\n",
    "dataset.head()"
   ]
  },
  {
   "cell_type": "markdown",
   "id": "01f6a3b4",
   "metadata": {
    "id": "1eT1j8JXFErT"
   },
   "source": [
    "# TF-IDF Vectorization"
   ]
  },
  {
   "cell_type": "code",
   "execution_count": 9,
   "id": "03e55988",
   "metadata": {
    "colab": {
     "base_uri": "https://localhost:8080/"
    },
    "id": "OwKQsVhRFErT",
    "outputId": "c18e6f7b-07f9-4451-a702-3e82d2340b53"
   },
   "outputs": [
    {
     "name": "stdout",
     "output_type": "stream",
     "text": [
      "  (0, 1094)\t0.42134286232111834\n",
      "  (0, 428)\t0.36451500184870916\n",
      "  (0, 690)\t0.4243129687487932\n",
      "  (0, 366)\t0.4316203836862409\n",
      "  (0, 424)\t0.5685607748837503\n",
      "  (1, 868)\t1.0\n",
      "  (2, 535)\t0.5167203417137275\n",
      "  (2, 334)\t0.5703586628312287\n",
      "  (2, 644)\t0.6385069178894004\n",
      "  (3, 388)\t0.34297946502666105\n",
      "  (3, 1127)\t0.3830760903365847\n",
      "  (3, 192)\t0.2889062048274658\n",
      "  (3, 159)\t0.383965965555372\n",
      "  (3, 476)\t0.30276129541603497\n",
      "  (3, 200)\t0.3080994537976795\n",
      "  (3, 1204)\t0.42959272615359534\n",
      "  (3, 1235)\t0.3654881008915086\n",
      "  (4, 365)\t0.38078421350631975\n",
      "  (4, 792)\t0.29539443552385375\n",
      "  (4, 116)\t0.31112757924785195\n",
      "  (4, 373)\t0.4117624130056904\n",
      "  (4, 335)\t0.4117624130056904\n",
      "  (4, 1125)\t0.26885835766779237\n",
      "  (4, 750)\t0.36551255853291725\n",
      "  (4, 1007)\t0.3549145293949653\n",
      "  :\t:\n",
      "  (50010, 714)\t0.5261739383495142\n",
      "  (50011, 432)\t0.7409074505616797\n",
      "  (50011, 943)\t0.6716071394068052\n",
      "  (50013, 1034)\t0.7835163814981727\n",
      "  (50013, 570)\t0.6213711289752765\n",
      "  (50015, 574)\t0.331542044218\n",
      "  (50015, 9)\t0.4217818147780822\n",
      "  (50015, 310)\t0.37476997032581416\n",
      "  (50015, 78)\t0.3225730519556773\n",
      "  (50015, 371)\t0.3287448348067636\n",
      "  (50015, 10)\t0.3357208620804306\n",
      "  (50015, 580)\t0.37144481032012355\n",
      "  (50015, 918)\t0.3300320565798708\n",
      "  (50016, 9)\t0.40264311412346937\n",
      "  (50016, 310)\t0.35776447121443666\n",
      "  (50016, 78)\t0.3079360314291456\n",
      "  (50016, 994)\t0.38816935753061216\n",
      "  (50016, 1)\t0.37074102657484087\n",
      "  (50016, 371)\t0.3138277645001001\n",
      "  (50016, 10)\t0.3204872487340455\n",
      "  (50016, 580)\t0.35459019310964324\n",
      "  (50017, 815)\t0.5808330915419859\n",
      "  (50017, 314)\t0.5007954399972653\n",
      "  (50017, 538)\t0.45324140081748615\n",
      "  (50017, 761)\t0.45432266026770823\n",
      "(50018, 1288)\n"
     ]
    }
   ],
   "source": [
    "from sklearn.feature_extraction.text import TfidfVectorizer\n",
    "vectorizer = TfidfVectorizer(min_df = 50, max_df = 1000)\n",
    "vectors = vectorizer.fit_transform(dataset['Tweets'])\n",
    "print(vectors)\n",
    "print(vectors.shape)"
   ]
  },
  {
   "cell_type": "markdown",
   "id": "a04d7443",
   "metadata": {
    "id": "eRc26-FlFErU"
   },
   "source": [
    "# Training Set"
   ]
  },
  {
   "cell_type": "code",
   "execution_count": 10,
   "id": "4113ea21",
   "metadata": {
    "id": "eo_54uWNFErU"
   },
   "outputs": [],
   "source": [
    "x_train = vectors.toarray()\n",
    "y_train = dataset.iloc[:, -1].values"
   ]
  },
  {
   "cell_type": "code",
   "execution_count": 12,
   "id": "72a8b481",
   "metadata": {
    "colab": {
     "base_uri": "https://localhost:8080/"
    },
    "id": "lUoZa3FEFErU",
    "outputId": "535d931f-b110-4658-d0d9-56f51dc96cfd"
   },
   "outputs": [
    {
     "name": "stdout",
     "output_type": "stream",
     "text": [
      "[0 2 0 ... 2 2 2]\n"
     ]
    }
   ],
   "source": [
    "from sklearn.preprocessing import LabelEncoder\n",
    "le = LabelEncoder()\n",
    "y_train = le.fit_transform(y_train)\n",
    "print(y_train)"
   ]
  },
  {
   "cell_type": "markdown",
   "id": "6f263ba8",
   "metadata": {
    "id": "zVRM_Q6SW4Hw"
   },
   "source": [
    "# Undersampling"
   ]
  },
  {
   "cell_type": "code",
   "execution_count": 13,
   "id": "1dc70f85",
   "metadata": {
    "colab": {
     "base_uri": "https://localhost:8080/"
    },
    "id": "dN6FTtlHW7UT",
    "outputId": "01e36382-17f3-4388-8f30-8c79dd772d43"
   },
   "outputs": [
    {
     "name": "stdout",
     "output_type": "stream",
     "text": [
      "Counter({2: 48201, 0: 1322, 1: 495})\n",
      "Counter({0: 1322, 1: 495, 2: 495})\n"
     ]
    }
   ],
   "source": [
    "from collections import Counter\n",
    "print(Counter(y_train))\n",
    "undersample = RandomUnderSampler(sampling_strategy='majority')\n",
    "x_train, y_train = undersample.fit_resample(x_train, y_train)\n",
    "print(Counter(y_train))"
   ]
  },
  {
   "cell_type": "markdown",
   "id": "b18f48ac",
   "metadata": {
    "id": "VGc1hfGwFErU"
   },
   "source": [
    "# Training the NB Model on training set"
   ]
  },
  {
   "cell_type": "code",
   "execution_count": 14,
   "id": "ac78a3e6",
   "metadata": {
    "colab": {
     "base_uri": "https://localhost:8080/"
    },
    "id": "nhl9Y9XSFErU",
    "outputId": "931ca75d-682c-4395-c601-f1f80559910b"
   },
   "outputs": [
    {
     "data": {
      "text/plain": [
       "MultinomialNB()"
      ]
     },
     "execution_count": 14,
     "metadata": {},
     "output_type": "execute_result"
    }
   ],
   "source": [
    "from sklearn.naive_bayes import MultinomialNB\n",
    "classifier = MultinomialNB()\n",
    "classifier.fit(x_train, y_train)"
   ]
  },
  {
   "cell_type": "markdown",
   "id": "480db2b2",
   "metadata": {
    "id": "giB0jTLiFErU"
   },
   "source": [
    "# Test Set"
   ]
  },
  {
   "cell_type": "code",
   "execution_count": 15,
   "id": "db40f92d",
   "metadata": {
    "id": "J4KFQpG-FErU"
   },
   "outputs": [],
   "source": [
    "datasetI = pd.read_csv(\"ItalyTweetsDataSet.csv\")\n",
    "\n",
    "datasetI_need = pd.read_csv(\"ItalyNeedsDF.csv\")\n",
    "datasetI_avail = pd.read_csv(\"ItalyAvailsDF.csv\")\n",
    "\n",
    "xI = datasetI_need['Need_id'].values\n",
    "yI = datasetI_avail['Avail_id'].values\n",
    "zI = datasetI['Tweet_id'].values\n",
    "\n",
    "naoI = list()\n",
    "for i in zI:\n",
    "    if i in xI:\n",
    "        naoI.append(\"Need\")\n",
    "    elif i in yI:\n",
    "        naoI.append(\"Avail\")\n",
    "    else:\n",
    "        naoI.append(\"Others\")\n",
    "datasetI['Label'] = naoI\n",
    "\n",
    "datasetI['Tweets'] = datasetI['Tweets'].apply(lambda x: remove_pattern(x, \"@[\\w]+\"))\n",
    "datasetI['Tweets'] = datasetI['Tweets'].apply(lambda x: remove_pattern(x, \"RT\"))\n",
    "datasetI['Tweets'] = datasetI['Tweets'].apply(lambda x: remove_pattern(x, \"#\"))\n",
    "\n",
    "datasetI['Tweets']=datasetI['Tweets'].replace(to_replace = r'https?:\\/\\/.*[\\r\\n]*', value= '', regex=True)\n",
    "\n",
    "datasetI['Tweets'] = datasetI['Tweets'].apply(remove_non_ascii)\n",
    "datasetI['Tweets'] = datasetI['Tweets'].apply(lambda x: tokenize_text(x.lower()))\n",
    "datasetI['Tweets'] = datasetI['Tweets'].apply(lambda x: clean_text(x))\n",
    "datasetI['Tweets'] = datasetI['Tweets'].apply(lambda x: stemming(x))\n",
    "datasetI['Tweets'] = [' '.join(map(str, l)) for l in datasetI['Tweets']]"
   ]
  },
  {
   "cell_type": "code",
   "execution_count": 16,
   "id": "28f99daf",
   "metadata": {
    "colab": {
     "base_uri": "https://localhost:8080/"
    },
    "id": "wd2Y-MvBFErV",
    "outputId": "b535fcac-4aa3-4a20-8061-e668a6303f21"
   },
   "outputs": [
    {
     "name": "stdout",
     "output_type": "stream",
     "text": [
      "  (0, 1144)\t0.6233051582340988\n",
      "  (0, 447)\t0.6509847706687465\n",
      "  (0, 350)\t0.4332545534395738\n",
      "  (2, 490)\t0.7786208676221326\n",
      "  (2, 350)\t0.6274946569520394\n",
      "  (4, 1121)\t0.3026637046717858\n",
      "  (4, 974)\t0.285746293597471\n",
      "  (4, 857)\t0.33244747832189137\n",
      "  (4, 799)\t0.30954184142864366\n",
      "  (4, 661)\t0.2849600253559381\n",
      "  (4, 603)\t0.23882443056597763\n",
      "  (4, 468)\t0.2677207676698756\n",
      "  (4, 465)\t0.2211970602688123\n",
      "  (4, 423)\t0.29747270909131557\n",
      "  (4, 418)\t0.34701115295887125\n",
      "  (4, 342)\t0.2949653321682172\n",
      "  (4, 141)\t0.25622858236275503\n",
      "  (5, 1146)\t0.37777343027155275\n",
      "  (5, 660)\t0.40429733121266065\n",
      "  (5, 603)\t0.3289525420051574\n",
      "  (5, 498)\t0.47379876296264906\n",
      "  (5, 496)\t0.39440684004947146\n",
      "  (5, 492)\t0.4534083206126501\n",
      "  (7, 1250)\t0.6429696634556431\n",
      "  (7, 787)\t0.7658916449966908\n",
      "  :\t:\n",
      "  (70481, 1151)\t0.35414971562030295\n",
      "  (70481, 1078)\t0.40165603956019413\n",
      "  (70481, 630)\t0.3928770682300489\n",
      "  (70481, 366)\t0.3621967589660426\n",
      "  (70481, 301)\t0.32932354605519937\n",
      "  (70481, 224)\t0.4555534772805199\n",
      "  (70481, 31)\t0.33425821338538586\n",
      "  (70482, 533)\t0.6713368636668615\n",
      "  (70482, 366)\t0.74115235645712\n",
      "  (70483, 302)\t0.7002643948766161\n",
      "  (70483, 263)\t0.7138835880366537\n",
      "  (70484, 787)\t0.5166744360616083\n",
      "  (70484, 471)\t0.3845260390062897\n",
      "  (70484, 444)\t0.4038078226346575\n",
      "  (70484, 352)\t0.4322414787308613\n",
      "  (70484, 142)\t0.4850709215054722\n",
      "  (70485, 953)\t0.5535042443278072\n",
      "  (70485, 927)\t0.5351635568692407\n",
      "  (70485, 414)\t0.6381481167488989\n",
      "  (70486, 1287)\t0.39999908805574386\n",
      "  (70486, 1078)\t0.4069289255840391\n",
      "  (70486, 563)\t0.4542986089733985\n",
      "  (70486, 531)\t0.3279372593027586\n",
      "  (70486, 366)\t0.3669516289048221\n",
      "  (70486, 103)\t0.4752115412819025\n",
      "(70487, 1288)\n"
     ]
    }
   ],
   "source": [
    "vectorsI = vectorizer.transform(datasetI['Tweets'])\n",
    "print(vectorsI)\n",
    "print(vectorsI.shape)"
   ]
  },
  {
   "cell_type": "code",
   "execution_count": 17,
   "id": "85e1bf41",
   "metadata": {
    "id": "leP1ULksFErV"
   },
   "outputs": [],
   "source": [
    "x_test = vectorsI.toarray()\n",
    "y_test = datasetI.iloc[:, -1].values"
   ]
  },
  {
   "cell_type": "code",
   "execution_count": 19,
   "id": "01f94997",
   "metadata": {
    "colab": {
     "base_uri": "https://localhost:8080/"
    },
    "id": "I49lIWJiFErV",
    "outputId": "f4fd3193-0618-42f6-fe62-413e0d4cbc10"
   },
   "outputs": [
    {
     "name": "stdout",
     "output_type": "stream",
     "text": [
      "[2 2 2 ... 2 2 2]\n"
     ]
    }
   ],
   "source": [
    "y_test = le.fit_transform(y_test)\n",
    "print(y_test)\n",
    "datasetI['true_vals'] = y_test"
   ]
  },
  {
   "cell_type": "code",
   "execution_count": 20,
   "id": "9c77b4f1",
   "metadata": {
    "colab": {
     "base_uri": "https://localhost:8080/"
    },
    "id": "E6S8B6WdXn3D",
    "outputId": "4fee16b3-b049-40a8-d14c-82e9095012e1"
   },
   "outputs": [
    {
     "name": "stdout",
     "output_type": "stream",
     "text": [
      "Counter({0: 230, 1: 177, 2: 177})\n"
     ]
    }
   ],
   "source": [
    "undersample2 = RandomUnderSampler(sampling_strategy='majority')\n",
    "x_test, y_test = undersample2.fit_resample(x_test, y_test)\n",
    "print(Counter(y_test))"
   ]
  },
  {
   "cell_type": "markdown",
   "id": "2d90101b",
   "metadata": {
    "id": "cyWO0YASFErV"
   },
   "source": [
    "# Predicting the results and evaluating them"
   ]
  },
  {
   "cell_type": "code",
   "execution_count": 21,
   "id": "6ede5226",
   "metadata": {
    "colab": {
     "base_uri": "https://localhost:8080/"
    },
    "id": "1iW3EP-tFErV",
    "outputId": "be5088ed-1b2b-4b3c-a006-83676bb829f2"
   },
   "outputs": [
    {
     "name": "stdout",
     "output_type": "stream",
     "text": [
      "[0 1 0 2 0 0 0 0 0 0 1 2 1 0 0 0 0 0 0 0 0 0 0 0 0 0 0 2 0 0 1 0 0 0 0 0 1\n",
      " 0 0 0 0 2 0 0 0 0 0 0 0 0 0 0 0 0 0 0 2 0 0 0 2 0 0 0 0 0 0 0 0 0 0 0 0 0\n",
      " 0 2 1 0 0 0 0 0 0 0 0 0 0 0 0 0 2 0 0 0 0 0 0 0 0 0 2 0 0 0 0 0 0 0 2 0 0\n",
      " 0 0 0 0 0 0 1 0 0 0 0 0 0 0 1 0 2 0 0 0 2 0 0 1 2 2 0 2 0 0 2 0 0 0 0 0 0\n",
      " 0 2 0 2 0 2 0 0 1 0 0 0 0 0 1 0 0 0 0 0 0 0 0 0 0 0 0 0 0 0 0 0 0 0 0 0 0\n",
      " 0 0 2 0 0 0 0 0 0 0 0 2 0 0 0 0 0 0 0 0 0 0 0 0 0 0 0 0 0 0 0 1 0 0 0 0 0\n",
      " 0 0 0 0 0 0 0 0 2 2 1 1 1 0 1 0 1 1 1 1 0 1 0 0 0 1 0 1 0 0 1 0 1 1 2 0 1\n",
      " 0 1 1 0 0 1 1 0 1 1 1 0 0 1 1 2 0 0 2 0 1 0 2 0 0 0 0 0 0 0 0 0 1 0 0 0 0\n",
      " 0 1 0 0 0 1 1 0 0 0 0 0 0 0 0 0 2 0 0 0 0 0 0 0 2 0 0 0 2 0 0 1 0 0 0 0 0\n",
      " 0 0 0 1 0 0 1 0 0 0 0 0 0 1 0 0 1 0 0 1 1 0 0 0 0 0 0 0 0 1 0 0 0 2 0 0 0\n",
      " 0 1 0 2 0 2 0 0 2 0 0 0 2 0 0 0 1 2 0 0 0 0 0 1 0 1 2 0 1 2 0 0 1 0 2 1 0\n",
      " 2 0 2 1 2 0 0 1 2 2 2 2 2 0 0 2 0 0 2 2 2 2 2 0 2 0 0 0 2 2 0 0 0 0 2 0 0\n",
      " 2 2 0 0 1 2 0 0 0 2 2 2 2 2 2 0 2 2 0 0 2 0 2 0 1 0 2 2 2 1 2 0 2 0 0 2 0\n",
      " 0 2 0 0 1 2 2 2 1 2 2 2 0 1 2 2 2 2 0 2 1 1 1 0 2 2 0 2 2 0 2 2 0 0 0 0 2\n",
      " 2 0 0 0 0 0 0 2 1 1 2 0 2 2 0 0 2 2 2 2 2 2 2 2 2 2 0 0 2 2 0 2 2 2 2 2 2\n",
      " 2 2 2 2 0 2 2 0 1 1 0 0 0 0 2 1 2 0 2 0 2 0 0 0 0 2 0 1 0]\n"
     ]
    }
   ],
   "source": [
    "y_pred = classifier.predict(x_test)\n",
    "print(y_pred)"
   ]
  },
  {
   "cell_type": "code",
   "execution_count": 22,
   "id": "74f7d6f6",
   "metadata": {
    "colab": {
     "base_uri": "https://localhost:8080/"
    },
    "id": "GHTbOcCcFErV",
    "outputId": "cf765a7a-38d4-4534-c03e-545087cb0a2b"
   },
   "outputs": [
    {
     "name": "stdout",
     "output_type": "stream",
     "text": [
      "[[197  12  21]\n",
      " [115  44  18]\n",
      " [ 70  17  90]]\n",
      "              precision    recall  f1-score   support\n",
      "\n",
      "           0       0.52      0.86      0.64       230\n",
      "           1       0.60      0.25      0.35       177\n",
      "           2       0.70      0.51      0.59       177\n",
      "\n",
      "    accuracy                           0.57       584\n",
      "   macro avg       0.61      0.54      0.53       584\n",
      "weighted avg       0.60      0.57      0.54       584\n",
      "\n",
      "0.5667808219178082\n"
     ]
    }
   ],
   "source": [
    "from sklearn.metrics import confusion_matrix, classification_report, accuracy_score\n",
    "cm = confusion_matrix(y_test, y_pred)\n",
    "print(cm)\n",
    "print(classification_report(y_test, y_pred))\n",
    "print(accuracy_score(y_test, y_pred))"
   ]
  },
  {
   "cell_type": "markdown",
   "id": "47b8c8cf",
   "metadata": {
    "id": "weNUmNl8FErW"
   },
   "source": [
    "# Confidence scores"
   ]
  },
  {
   "cell_type": "code",
   "execution_count": 23,
   "id": "306d47df",
   "metadata": {
    "colab": {
     "base_uri": "https://localhost:8080/"
    },
    "id": "Fk3g4QTIFErW",
    "outputId": "88b51b4c-1c67-49c4-d17f-155ea4adbfae"
   },
   "outputs": [
    {
     "name": "stdout",
     "output_type": "stream",
     "text": [
      "[[0.45604869 0.31722236 0.22672895]\n",
      " [0.20251262 0.76032595 0.03716144]\n",
      " [0.62196682 0.22563195 0.15240123]\n",
      " ...\n",
      " [0.88669302 0.05874549 0.05456149]\n",
      " [0.25501175 0.41836345 0.3266248 ]\n",
      " [0.57179931 0.21410035 0.21410035]]\n"
     ]
    }
   ],
   "source": [
    "class_probabilities = classifier.predict_proba(x_test)\n",
    "print(class_probabilities)"
   ]
  },
  {
   "cell_type": "code",
   "execution_count": 24,
   "id": "b704f0d4",
   "metadata": {
    "colab": {
     "base_uri": "https://localhost:8080/"
    },
    "id": "3kioCtLvFErW",
    "outputId": "4acf4e69-a352-419b-9736-a4e0834bf905"
   },
   "outputs": [
    {
     "name": "stdout",
     "output_type": "stream",
     "text": [
      "0: 230\n",
      "1: 177\n",
      "2: 177\n"
     ]
    }
   ],
   "source": [
    "elements_count = dict()\n",
    "for element in y_test:\n",
    "    if element in elements_count:\n",
    "        elements_count[element] += 1\n",
    "    else:\n",
    "        elements_count[element] = 1\n",
    "for key, value in elements_count.items():\n",
    "    print(f\"{key}: {value}\")"
   ]
  },
  {
   "cell_type": "code",
   "execution_count": 25,
   "id": "bfb0b494",
   "metadata": {
    "colab": {
     "base_uri": "https://localhost:8080/"
    },
    "id": "JGFBFbqZFErW",
    "outputId": "ad37e378-c37a-43b0-fdbd-4b1571d4878b"
   },
   "outputs": [
    {
     "name": "stdout",
     "output_type": "stream",
     "text": [
      "0: 382\n",
      "1: 73\n",
      "2: 129\n"
     ]
    }
   ],
   "source": [
    "elements_count = dict()\n",
    "for element in y_pred:\n",
    "    if element in elements_count:\n",
    "        elements_count[element] += 1\n",
    "    else:\n",
    "        elements_count[element] = 1\n",
    "for key, value in elements_count.items():\n",
    "    print(f\"{key}: {value}\")"
   ]
  },
  {
   "cell_type": "code",
   "execution_count": 26,
   "id": "5ee7aa32",
   "metadata": {
    "colab": {
     "base_uri": "https://localhost:8080/",
     "height": 195
    },
    "id": "UwrjFKCdbjVZ",
    "outputId": "c46de81d-df2d-496e-b5ae-6f41bc37d39a"
   },
   "outputs": [
    {
     "data": {
      "text/html": [
       "<div>\n",
       "<style scoped>\n",
       "    .dataframe tbody tr th:only-of-type {\n",
       "        vertical-align: middle;\n",
       "    }\n",
       "\n",
       "    .dataframe tbody tr th {\n",
       "        vertical-align: top;\n",
       "    }\n",
       "\n",
       "    .dataframe thead th {\n",
       "        text-align: right;\n",
       "    }\n",
       "</style>\n",
       "<table border=\"1\" class=\"dataframe\">\n",
       "  <thead>\n",
       "    <tr style=\"text-align: right;\">\n",
       "      <th></th>\n",
       "      <th>True Value</th>\n",
       "      <th>Predicted Value</th>\n",
       "    </tr>\n",
       "  </thead>\n",
       "  <tbody>\n",
       "    <tr>\n",
       "      <th>0</th>\n",
       "      <td>0</td>\n",
       "      <td>0</td>\n",
       "    </tr>\n",
       "    <tr>\n",
       "      <th>1</th>\n",
       "      <td>0</td>\n",
       "      <td>1</td>\n",
       "    </tr>\n",
       "    <tr>\n",
       "      <th>2</th>\n",
       "      <td>0</td>\n",
       "      <td>0</td>\n",
       "    </tr>\n",
       "    <tr>\n",
       "      <th>3</th>\n",
       "      <td>0</td>\n",
       "      <td>2</td>\n",
       "    </tr>\n",
       "    <tr>\n",
       "      <th>4</th>\n",
       "      <td>0</td>\n",
       "      <td>0</td>\n",
       "    </tr>\n",
       "  </tbody>\n",
       "</table>\n",
       "</div>"
      ],
      "text/plain": [
       "   True Value  Predicted Value\n",
       "0           0                0\n",
       "1           0                1\n",
       "2           0                0\n",
       "3           0                2\n",
       "4           0                0"
      ]
     },
     "execution_count": 26,
     "metadata": {},
     "output_type": "execute_result"
    }
   ],
   "source": [
    "All_DF = pd.DataFrame(\n",
    "    {'True Value' : y_test,\n",
    "     'Predicted Value' : y_pred,\n",
    "    }\n",
    ")\n",
    "All_DF.head()"
   ]
  },
  {
   "cell_type": "code",
   "execution_count": 27,
   "id": "b53bd72f",
   "metadata": {
    "colab": {
     "base_uri": "https://localhost:8080/",
     "height": 447
    },
    "id": "kY53W2vUcoNv",
    "outputId": "325dd2df-a29e-4796-fd0e-418f2f105a64"
   },
   "outputs": [
    {
     "name": "stderr",
     "output_type": "stream",
     "text": [
      "<ipython-input-27-6bdf3e339be9>:5: SettingWithCopyWarning: \n",
      "A value is trying to be set on a copy of a slice from a DataFrame\n",
      "\n",
      "See the caveats in the documentation: https://pandas.pydata.org/pandas-docs/stable/user_guide/indexing.html#returning-a-view-versus-a-copy\n",
      "  All_DF['Confidence Score'][i] = class_probabilities[i][0]\n",
      "<ipython-input-27-6bdf3e339be9>:7: SettingWithCopyWarning: \n",
      "A value is trying to be set on a copy of a slice from a DataFrame\n",
      "\n",
      "See the caveats in the documentation: https://pandas.pydata.org/pandas-docs/stable/user_guide/indexing.html#returning-a-view-versus-a-copy\n",
      "  All_DF['Confidence Score'][i] = class_probabilities[i][1]\n",
      "<ipython-input-27-6bdf3e339be9>:9: SettingWithCopyWarning: \n",
      "A value is trying to be set on a copy of a slice from a DataFrame\n",
      "\n",
      "See the caveats in the documentation: https://pandas.pydata.org/pandas-docs/stable/user_guide/indexing.html#returning-a-view-versus-a-copy\n",
      "  All_DF['Confidence Score'][i] = class_probabilities[i][2]\n"
     ]
    },
    {
     "data": {
      "text/html": [
       "<div>\n",
       "<style scoped>\n",
       "    .dataframe tbody tr th:only-of-type {\n",
       "        vertical-align: middle;\n",
       "    }\n",
       "\n",
       "    .dataframe tbody tr th {\n",
       "        vertical-align: top;\n",
       "    }\n",
       "\n",
       "    .dataframe thead th {\n",
       "        text-align: right;\n",
       "    }\n",
       "</style>\n",
       "<table border=\"1\" class=\"dataframe\">\n",
       "  <thead>\n",
       "    <tr style=\"text-align: right;\">\n",
       "      <th></th>\n",
       "      <th>True Value</th>\n",
       "      <th>Predicted Value</th>\n",
       "      <th>Confidence Score</th>\n",
       "    </tr>\n",
       "  </thead>\n",
       "  <tbody>\n",
       "    <tr>\n",
       "      <th>0</th>\n",
       "      <td>0</td>\n",
       "      <td>0</td>\n",
       "      <td>0.456049</td>\n",
       "    </tr>\n",
       "    <tr>\n",
       "      <th>1</th>\n",
       "      <td>0</td>\n",
       "      <td>1</td>\n",
       "      <td>0.760326</td>\n",
       "    </tr>\n",
       "    <tr>\n",
       "      <th>2</th>\n",
       "      <td>0</td>\n",
       "      <td>0</td>\n",
       "      <td>0.621967</td>\n",
       "    </tr>\n",
       "    <tr>\n",
       "      <th>3</th>\n",
       "      <td>0</td>\n",
       "      <td>2</td>\n",
       "      <td>0.440835</td>\n",
       "    </tr>\n",
       "    <tr>\n",
       "      <th>4</th>\n",
       "      <td>0</td>\n",
       "      <td>0</td>\n",
       "      <td>0.479695</td>\n",
       "    </tr>\n",
       "  </tbody>\n",
       "</table>\n",
       "</div>"
      ],
      "text/plain": [
       "   True Value  Predicted Value Confidence Score\n",
       "0           0                0         0.456049\n",
       "1           0                1         0.760326\n",
       "2           0                0         0.621967\n",
       "3           0                2         0.440835\n",
       "4           0                0         0.479695"
      ]
     },
     "execution_count": 27,
     "metadata": {},
     "output_type": "execute_result"
    }
   ],
   "source": [
    "All_DF['Confidence Score'] = [None] * len(All_DF)\n",
    "\n",
    "for i in range(len(class_probabilities)):\n",
    "  if All_DF['Predicted Value'][i] == 0:\n",
    "    All_DF['Confidence Score'][i] = class_probabilities[i][0]\n",
    "  elif All_DF['Predicted Value'][i] == 1:\n",
    "    All_DF['Confidence Score'][i] = class_probabilities[i][1]\n",
    "  else:\n",
    "    All_DF['Confidence Score'][i] = class_probabilities[i][2]\n",
    "\n",
    "All_DF.head()"
   ]
  },
  {
   "cell_type": "code",
   "execution_count": 28,
   "id": "73b42c9f",
   "metadata": {
    "id": "4jG3HHAfj-82"
   },
   "outputs": [],
   "source": [
    "PredAvailsDF = All_DF.loc[All_DF['Predicted Value'] == 0]\n",
    "PredNeedsDF = All_DF.loc[All_DF['Predicted Value'] == 1]\n",
    "PredOthersDF = All_DF.loc[All_DF['Predicted Value'] == 2]"
   ]
  },
  {
   "cell_type": "code",
   "execution_count": 29,
   "id": "8a87cb42",
   "metadata": {
    "id": "VAPq6dHSn0Zv"
   },
   "outputs": [],
   "source": [
    "PredAvailsDF = PredAvailsDF.sort_values(by = 'Confidence Score', ascending = False)\n",
    "PredNeedsDF = PredNeedsDF.sort_values(by = 'Confidence Score', ascending = False)\n",
    "PredOthersDF = PredOthersDF.sort_values(by = 'Confidence Score', ascending = False)"
   ]
  },
  {
   "cell_type": "code",
   "execution_count": 30,
   "id": "74471999",
   "metadata": {
    "id": "tdXkavXToPbh"
   },
   "outputs": [],
   "source": [
    "PredAvailsDF.to_csv('Nepal to Italy Rank Avails.csv', index = False)\n",
    "PredNeedsDF.to_csv('Nepal to Italy Rank Needs.csv', index = False)\n",
    "PredOthersDF.to_csv('Nepal to Italy Rank Others.csv', index = False)"
   ]
  },
  {
   "cell_type": "code",
   "execution_count": null,
   "id": "85f0d8f2",
   "metadata": {},
   "outputs": [],
   "source": []
  },
  {
   "cell_type": "code",
   "execution_count": null,
   "id": "5a25ddcc",
   "metadata": {},
   "outputs": [],
   "source": []
  }
 ],
 "metadata": {
  "kernelspec": {
   "display_name": "Python 3",
   "language": "python",
   "name": "python3"
  },
  "language_info": {
   "codemirror_mode": {
    "name": "ipython",
    "version": 3
   },
   "file_extension": ".py",
   "mimetype": "text/x-python",
   "name": "python",
   "nbconvert_exporter": "python",
   "pygments_lexer": "ipython3",
   "version": "3.8.8"
  }
 },
 "nbformat": 4,
 "nbformat_minor": 5
}
